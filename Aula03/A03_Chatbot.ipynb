{
 "cells": [
  {
   "cell_type": "code",
   "execution_count": 5,
   "metadata": {},
   "outputs": [
    {
     "name": "stdout",
     "output_type": "stream",
     "text": [
      "Defaulting to user installation because normal site-packages is not writeable\n",
      "Requirement already satisfied: groq in c:\\users\\dsadm\\appdata\\roaming\\python\\python313\\site-packages (0.18.0)\n",
      "Requirement already satisfied: anyio<5,>=3.5.0 in c:\\users\\dsadm\\appdata\\roaming\\python\\python313\\site-packages (from groq) (4.8.0)\n",
      "Requirement already satisfied: distro<2,>=1.7.0 in c:\\users\\dsadm\\appdata\\roaming\\python\\python313\\site-packages (from groq) (1.9.0)\n",
      "Requirement already satisfied: httpx<1,>=0.23.0 in c:\\users\\dsadm\\appdata\\roaming\\python\\python313\\site-packages (from groq) (0.28.1)\n",
      "Requirement already satisfied: pydantic<3,>=1.9.0 in c:\\users\\dsadm\\appdata\\roaming\\python\\python313\\site-packages (from groq) (2.10.6)\n",
      "Requirement already satisfied: sniffio in c:\\users\\dsadm\\appdata\\roaming\\python\\python313\\site-packages (from groq) (1.3.1)\n",
      "Requirement already satisfied: typing-extensions<5,>=4.10 in c:\\users\\dsadm\\appdata\\roaming\\python\\python313\\site-packages (from groq) (4.12.2)\n",
      "Requirement already satisfied: idna>=2.8 in c:\\users\\dsadm\\appdata\\roaming\\python\\python313\\site-packages (from anyio<5,>=3.5.0->groq) (3.10)\n",
      "Requirement already satisfied: certifi in c:\\users\\dsadm\\appdata\\roaming\\python\\python313\\site-packages (from httpx<1,>=0.23.0->groq) (2025.1.31)\n",
      "Requirement already satisfied: httpcore==1.* in c:\\users\\dsadm\\appdata\\roaming\\python\\python313\\site-packages (from httpx<1,>=0.23.0->groq) (1.0.7)\n",
      "Requirement already satisfied: h11<0.15,>=0.13 in c:\\users\\dsadm\\appdata\\roaming\\python\\python313\\site-packages (from httpcore==1.*->httpx<1,>=0.23.0->groq) (0.14.0)\n",
      "Requirement already satisfied: annotated-types>=0.6.0 in c:\\users\\dsadm\\appdata\\roaming\\python\\python313\\site-packages (from pydantic<3,>=1.9.0->groq) (0.7.0)\n",
      "Requirement already satisfied: pydantic-core==2.27.2 in c:\\users\\dsadm\\appdata\\roaming\\python\\python313\\site-packages (from pydantic<3,>=1.9.0->groq) (2.27.2)\n"
     ]
    },
    {
     "name": "stderr",
     "output_type": "stream",
     "text": [
      "\n",
      "[notice] A new release of pip is available: 24.3.1 -> 25.0.1\n",
      "[notice] To update, run: python.exe -m pip install --upgrade pip\n"
     ]
    }
   ],
   "source": [
    "# instalaçao da biblioteca Groq\n",
    "!pip install groq"
   ]
  },
  {
   "cell_type": "code",
   "execution_count": 6,
   "metadata": {},
   "outputs": [],
   "source": [
    "from groq import Groq # realiza a importaçao da biblioteca necessaria para rodar a LLM\n",
    "#Inicializa o cliente com a chave da \n",
    "client = Groq(api_key='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')\n",
    "completion = client.chat.completions.create(\n",
    "  model=\"llama3-8b-8192\",\n",
    "  messages=[\n",
    "     {\"role\":\"system\",\"content\":\"Voce é assistente de agricultor\"},\n",
    "     {\"role\":\"user\",\"content\":\"Qual a semente indicada para \\n no solo arenoso em maio\"}\n",
    "\n",
    "  ],  \n",
    "  temperature=0,\n",
    "  max_tokens=1024, #ajusta o token,\n",
    "  top_p=1,\n",
    "  stream = False\n",
    "\n",
    ")"
   ]
  },
  {
   "cell_type": "code",
   "execution_count": 7,
   "metadata": {},
   "outputs": [
    {
     "name": "stdout",
     "output_type": "stream",
     "text": [
      "Um excelente questionário!\n",
      "\n",
      "Para um solo arenoso em maio, eu recomendaria sementes que sejam resistentes à seca e ao calor, pois esses solos tendem a secar rapidamente e podem ser afetados por temperaturas elevadas.\n",
      "\n",
      "Aqui estão algumas opções de sementes que devem se adaptar bem a um solo arenoso em maio:\n",
      "\n",
      "1. Sementes de milho: O milho é uma cultura comum em solos arenosos e é resistente à seca. Ele também é uma boa opção para maio, pois o clima é geralmente mais quente e seco nessa época do ano.\n",
      "2. Sementes de feijão: O feijão é outro grão que se adapta bem a solos arenosos e é resistente à seca. Ele também é uma boa opção para maio, pois o clima é geralmente mais quente e seco nessa época do ano.\n",
      "3. Sementes de soja: A soja é uma cultura comum em solos arenosos e é resistente à seca. Ela também é uma boa opção para maio, pois o clima é geralmente mais quente e seco nessa época do ano.\n",
      "4. Sementes de alfafa: A alfafa é uma cultura que se adapta bem a solos arenosos e é resistente à seca. Ela também é uma boa opção para maio, pois o clima é geralmente mais quente e seco nessa época do ano.\n",
      "5. Sementes de trigo: O trigo é uma cultura comum em solos arenosos e é resistente à seca. Ele também é uma boa opção para maio, pois o clima é geralmente mais quente e seco nessa época do ano.\n",
      "\n",
      "Lembre-se de que é importante verificar as condições climáticas locais e as necessidades específicas da cultura que você deseja cultivar antes de plantar. Além disso, é sempre recomendável consultar um especialista em agricultura ou um consultor agrícola para obter orientação mais específica para o seu local.\n"
     ]
    }
   ],
   "source": [
    "\n",
    "# exibe a resposta gerada\n",
    "print(completion.choices[0].message.content)"
   ]
  },
  {
   "cell_type": "code",
   "execution_count": 8,
   "metadata": {},
   "outputs": [],
   "source": [
    "import os # biblioteca do sistema operacional\n",
    "from groq import Groq"
   ]
  },
  {
   "cell_type": "code",
   "execution_count": 21,
   "metadata": {},
   "outputs": [
    {
     "name": "stdout",
     "output_type": "stream",
     "text": [
      "\n",
      " Resposta do assistente: \n",
      "\n",
      "O solo argiloso! É um tipo de solo que pode ser um desafio para os agricultores, mas com o conhecimento certo, é possível trabalhar com ele e obter resultados satisfatórios.\n",
      "\n",
      "O solo argiloso é rico em argila, que é um tipo de minério que se caracteriza por ter uma alta capacidade de retenção de água e nutrientes. No entanto, isso também pode ser um problema, pois a argila pode tornar o solo muito pesado e difícil de trabalhar.\n",
      "\n",
      "Aqui estão algumas dicas para você plantar e tratar um solo argiloso:\n",
      "\n",
      "**Plantas que se adaptam bem ao solo argiloso:**\n",
      "\n",
      "1. Leguminosas: ervilhas, feijões, lentilhas e grãos de soja são excelentes opções para solos argilosos.\n",
      "2. Cereais: trigo, milho e aveia também se adaptam bem a este tipo de solo.\n",
      "3. Hortaliças: alface, couve-flor, brócolis e espinafre são outras opções que se desenvolvem bem em solos argilosos.\n",
      "4. Frutas: mirtilo, framboesa e amora são frutas que se adaptam bem a solos argilosos.\n",
      "\n",
      "**Dicas para tratar o solo argiloso:**\n",
      "\n",
      "1. Adicione materiais orgânicos: adicione compost, esterco de animais ou outros materiais orgânicos ao solo para melhorar sua estrutura e drenagem.\n",
      "2. Use fertilizantes balanceados: use fertilizantes que contenham nutrientes essenciais, como nitrogênio, fósforo e potássio, para ajudar a nutrir as plantas.\n",
      "3. Trabalhe o solo: use um arado ou uma pá para trabalhar o solo e melhorar sua estrutura.\n",
      "4. Evite excesso de água: o solo argiloso pode ser propenso a inundações, então é importante evitar excesso de água no solo.\n",
      "5. Use técnicas de cultivo conservacionista: use técnicas como cultivo direto, semeadura em sulcos e plantio em linhas para minimizar a erosão e a perda de nutrientes.\n",
      "6. Adicione materiais que melhoram a drenagem: adicione materiais como areia, perlita ou vermiculita ao solo para melhorar sua drenagem.\n",
      "\n",
      "**Dicas para melhorar a estrutura do solo argiloso:**\n",
      "\n",
      "1. Adicione areia: adicione areia ao solo para melhorar sua estrutura e drenagem.\n",
      "2. Use compost: o compost pode ajudar a melhorar a estrutura do solo e a retenção de nutrientes.\n",
      "3. Trabalhe o solo: use um arado ou uma pá para trabalhar o solo e melhorar sua estrutura.\n",
      "4. Adicione materiais que melhoram a aeração: adicione materiais como perlita ou vermiculita ao solo para melhorar sua aeração.\n",
      "\n",
      "Lembre-se de que o solo argiloso é um desafio, mas com o conhecimento certo e a aplicação correta das dicas acima, é possível trabalhar com ele e obter resultados satisfatórios.\n",
      "\n"
     ]
    }
   ],
   "source": [
    "#Define sua chave da API do GROQ\n",
    "GROQ_API_KEY = os.getenv('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')\n",
    "client = Groq(api_key='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')\n",
    "\n",
    "#Solicita que o usuario digite o prompt\n",
    "\n",
    "user_prompt=input(\"Digite sua pergunta sobre agricultura: \")\n",
    "\n",
    "# Faz a solicitaçao ao modelo\n",
    "completion = client.chat.completions.create(\n",
    "  model=\"llama3-8b-8192\",\n",
    "  messages=[\n",
    "     {\"role\":\"system\",\"content\":\"Voce é assistente de agricultor\"},\n",
    "     {\"role\":\"user\",\"content\":user_prompt}\n",
    "\n",
    "  ],  \n",
    "  temperature=0,\n",
    "  max_tokens=1024, #ajusta o token,\n",
    "  \n",
    "  top_p=1,\n",
    "  stream = False\n",
    "\n",
    ")\n",
    "# Exibe a resposta \n",
    "print('\\n Resposta do assistente: \\n')\n",
    "print(completion.choices[0].message.content + \"\\n\")"
   ]
  },
  {
   "cell_type": "code",
   "execution_count": null,
   "metadata": {},
   "outputs": [],
   "source": []
  }
 ],
 "metadata": {
  "kernelspec": {
   "display_name": "Python 3",
   "language": "python",
   "name": "python3"
  },
  "language_info": {
   "codemirror_mode": {
    "name": "ipython",
    "version": 3
   },
   "file_extension": ".py",
   "mimetype": "text/x-python",
   "name": "python",
   "nbconvert_exporter": "python",
   "pygments_lexer": "ipython3",
   "version": "3.13.1"
  }
 },
 "nbformat": 4,
 "nbformat_minor": 2
}
